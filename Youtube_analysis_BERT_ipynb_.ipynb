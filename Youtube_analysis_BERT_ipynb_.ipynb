{
  "cells": [
    {
      "cell_type": "markdown",
      "metadata": {
        "id": "yEoIaf8GqAAD"
      },
      "source": [
        "## Import"
      ]
    },
    {
      "cell_type": "code",
      "execution_count": null,
      "metadata": {
        "colab": {
          "base_uri": "https://localhost:8080/"
        },
        "id": "LWaXqs6otKA-",
        "outputId": "ef5b7ec6-ca24-4a85-b122-565170d9b2c1"
      },
      "outputs": [
        {
          "name": "stdout",
          "output_type": "stream",
          "text": [
            "Collecting transformers\n",
            "  Downloading transformers-4.44.0-py3-none-any.whl.metadata (43 kB)\n",
            "\u001b[2K     \u001b[90m━━━━━━━━━━━━━━━━━━━━━━━━━━━━━━━━━━━━━━━━\u001b[0m \u001b[32m43.7/43.7 kB\u001b[0m \u001b[31m1.6 MB/s\u001b[0m eta \u001b[36m0:00:00\u001b[0m\n",
            "\u001b[?25hRequirement already satisfied: filelock in /opt/anaconda3/lib/python3.10/site-packages (from transformers) (3.13.1)\n",
            "Collecting huggingface-hub<1.0,>=0.23.2 (from transformers)\n",
            "  Downloading huggingface_hub-0.24.5-py3-none-any.whl.metadata (13 kB)\n",
            "Requirement already satisfied: numpy>=1.17 in /opt/anaconda3/lib/python3.10/site-packages (from transformers) (1.26.4)\n",
            "Requirement already satisfied: packaging>=20.0 in /opt/anaconda3/lib/python3.10/site-packages (from transformers) (24.1)\n",
            "Requirement already satisfied: pyyaml>=5.1 in /opt/anaconda3/lib/python3.10/site-packages (from transformers) (6.0.1)\n",
            "Requirement already satisfied: regex!=2019.12.17 in /opt/anaconda3/lib/python3.10/site-packages (from transformers) (2023.10.3)\n",
            "Requirement already satisfied: requests in /opt/anaconda3/lib/python3.10/site-packages (from transformers) (2.32.3)\n",
            "Collecting safetensors>=0.4.1 (from transformers)\n",
            "  Downloading safetensors-0.4.4-cp310-cp310-macosx_11_0_arm64.whl.metadata (3.8 kB)\n",
            "Collecting tokenizers<0.20,>=0.19 (from transformers)\n",
            "  Downloading tokenizers-0.19.1-cp310-cp310-macosx_11_0_arm64.whl.metadata (6.7 kB)\n",
            "Requirement already satisfied: tqdm>=4.27 in /opt/anaconda3/lib/python3.10/site-packages (from transformers) (4.66.4)\n",
            "Requirement already satisfied: fsspec>=2023.5.0 in /opt/anaconda3/lib/python3.10/site-packages (from huggingface-hub<1.0,>=0.23.2->transformers) (2024.3.1)\n",
            "Requirement already satisfied: typing-extensions>=3.7.4.3 in /opt/anaconda3/lib/python3.10/site-packages (from huggingface-hub<1.0,>=0.23.2->transformers) (4.11.0)\n",
            "Requirement already satisfied: charset-normalizer<4,>=2 in /opt/anaconda3/lib/python3.10/site-packages (from requests->transformers) (2.0.4)\n",
            "Requirement already satisfied: idna<4,>=2.5 in /opt/anaconda3/lib/python3.10/site-packages (from requests->transformers) (3.7)\n",
            "Requirement already satisfied: urllib3<3,>=1.21.1 in /opt/anaconda3/lib/python3.10/site-packages (from requests->transformers) (2.2.2)\n",
            "Requirement already satisfied: certifi>=2017.4.17 in /opt/anaconda3/lib/python3.10/site-packages (from requests->transformers) (2024.7.4)\n",
            "Downloading transformers-4.44.0-py3-none-any.whl (9.5 MB)\n",
            "\u001b[2K   \u001b[90m━━━━━━━━━━━━━━━━━━━━━━━━━━━━━━━━━━━━━━━━\u001b[0m \u001b[32m9.5/9.5 MB\u001b[0m \u001b[31m7.5 MB/s\u001b[0m eta \u001b[36m0:00:00\u001b[0m00:01\u001b[0m00:01\u001b[0m\n",
            "\u001b[?25hDownloading huggingface_hub-0.24.5-py3-none-any.whl (417 kB)\n",
            "\u001b[2K   \u001b[90m━━━━━━━━━━━━━━━━━━━━━━━━━━━━━━━━━━━━━━━━\u001b[0m \u001b[32m417.5/417.5 kB\u001b[0m \u001b[31m12.4 MB/s\u001b[0m eta \u001b[36m0:00:00\u001b[0m\n",
            "\u001b[?25hDownloading safetensors-0.4.4-cp310-cp310-macosx_11_0_arm64.whl (381 kB)\n",
            "\u001b[2K   \u001b[90m━━━━━━━━━━━━━━━━━━━━━━━━━━━━━━━━━━━━━━━━\u001b[0m \u001b[32m381.9/381.9 kB\u001b[0m \u001b[31m8.9 MB/s\u001b[0m eta \u001b[36m0:00:00\u001b[0m:00:01\u001b[0m\n",
            "\u001b[?25hDownloading tokenizers-0.19.1-cp310-cp310-macosx_11_0_arm64.whl (2.4 MB)\n",
            "\u001b[2K   \u001b[90m━━━━━━━━━━━━━━━━━━━━━━━━━━━━━━━━━━━━━━━━\u001b[0m \u001b[32m2.4/2.4 MB\u001b[0m \u001b[31m11.5 MB/s\u001b[0m eta \u001b[36m0:00:00\u001b[0ma \u001b[36m0:00:01\u001b[0m\n",
            "\u001b[?25hInstalling collected packages: safetensors, huggingface-hub, tokenizers, transformers\n",
            "Successfully installed huggingface-hub-0.24.5 safetensors-0.4.4 tokenizers-0.19.1 transformers-4.44.0\n"
          ]
        }
      ],
      "source": [
        "!pip install transformers"
      ]
    },
    {
      "cell_type": "code",
      "execution_count": null,
      "metadata": {
        "id": "jMDQbUOitWj9"
      },
      "outputs": [],
      "source": [
        "import transformers\n",
        "from transformers import BertModel, AdamW, get_linear_schedule_with_warmup\n",
        "import torch\n",
        "from torch.utils.data import Dataset, DataLoader\n",
        "from torch import nn, optim\n",
        "from tqdm import tqdm\n",
        "import numpy as np\n",
        "import pandas as pd\n",
        "import matplotlib.pyplot as plt\n",
        "import seaborn as sns\n",
        "from sklearn.model_selection import train_test_split\n",
        "from sklearn.metrics import accuracy_score, precision_score, recall_score\n",
        "from collections import defaultdict\n",
        "from review_dataset import ReviewDataset\n",
        "from sklearn.metrics import classification_report, confusion_matrix"
      ]
    },
    {
      "cell_type": "code",
      "execution_count": null,
      "metadata": {
        "id": "GObdMeh1vlxf"
      },
      "outputs": [],
      "source": [
        "device = torch.device('mps' if torch.backends.mps.is_available() else 'cpu')"
      ]
    },
    {
      "cell_type": "code",
      "execution_count": null,
      "metadata": {
        "id": "xwabSjJ7vlxf",
        "outputId": "c0abcce5-d2cf-41f2-9633-d387303b69a6"
      },
      "outputs": [
        {
          "name": "stderr",
          "output_type": "stream",
          "text": [
            "/opt/anaconda3/lib/python3.10/site-packages/torchvision/io/image.py:13: UserWarning: Failed to load image Python extension: 'dlopen(/opt/anaconda3/lib/python3.10/site-packages/torchvision/image.so, 0x0006): Symbol not found: __ZN3c1017RegisterOperatorsD1Ev\n",
            "  Referenced from: <5AA8DD3D-A2CC-31CA-8060-88B4E9C18B09> /opt/anaconda3/lib/python3.10/site-packages/torchvision/image.so\n",
            "  Expected in:     <0E72DC1D-5515-3805-A3DE-7FD4A5B0B34D> /opt/anaconda3/lib/python3.10/site-packages/torch/lib/libtorch_cpu.dylib'If you don't plan on using image functionality from `torchvision.io`, you can ignore this warning. Otherwise, there might be something wrong with your environment. Did you have `libjpeg` or `libpng` installed before building `torchvision` from source?\n",
            "  warn(\n"
          ]
        }
      ],
      "source": [
        "from transformers import pipeline\n",
        "from transformers import DistilBertTokenizer, DistilBertForSequenceClassification"
      ]
    },
    {
      "cell_type": "code",
      "execution_count": null,
      "metadata": {
        "id": "NPGahUDnvlxf",
        "outputId": "ecbc146f-56c4-42bf-eea4-4523bf3742fc"
      },
      "outputs": [
        {
          "data": {
            "text/plain": [
              "<torch._C.Generator at 0x1101abaf0>"
            ]
          },
          "execution_count": 8,
          "metadata": {},
          "output_type": "execute_result"
        }
      ],
      "source": [
        "sns.set(style='whitegrid', palette='muted', font_scale=1.2)\n",
        "random_seed = 42\n",
        "np.random.seed(random_seed)\n",
        "torch.manual_seed(random_seed)"
      ]
    },
    {
      "cell_type": "markdown",
      "metadata": {
        "id": "HhaeJD14Wqbo"
      },
      "source": [
        "## Data"
      ]
    },
    {
      "cell_type": "code",
      "execution_count": null,
      "metadata": {
        "id": "xcyET8WmGUj4"
      },
      "outputs": [],
      "source": [
        "df = pd.read_csv('clean_data.csv')"
      ]
    },
    {
      "cell_type": "code",
      "execution_count": null,
      "metadata": {
        "id": "wwabbJXCvlxf",
        "outputId": "cc35b603-25c9-4ef8-cfa9-da1d62e7f1a4"
      },
      "outputs": [
        {
          "data": {
            "text/plain": [
              "sentiment\n",
              "0    12526\n",
              "1    12474\n",
              "Name: count, dtype: int64"
            ]
          },
          "execution_count": 10,
          "metadata": {},
          "output_type": "execute_result"
        }
      ],
      "source": [
        "df_to_train = df[:25000]\n",
        "df_to_train.sentiment.value_counts()"
      ]
    },
    {
      "cell_type": "code",
      "execution_count": null,
      "metadata": {
        "id": "T5SJvxtDvlxf",
        "outputId": "9baf49ab-94b9-4fad-adf5-22272853a106"
      },
      "outputs": [
        {
          "data": {
            "text/plain": [
              "sentiment\n",
              "1    1297\n",
              "0    1203\n",
              "Name: count, dtype: int64"
            ]
          },
          "execution_count": 11,
          "metadata": {},
          "output_type": "execute_result"
        }
      ],
      "source": [
        "df_to_test = df[25000:27500]\n",
        "df_to_test.sentiment.value_counts()"
      ]
    },
    {
      "cell_type": "code",
      "execution_count": null,
      "metadata": {
        "id": "zEQ50qejvlxf"
      },
      "outputs": [],
      "source": [
        "tokenizer = transformers.BertTokenizer.from_pretrained('bert-base-uncased', clean_up_tokenization_spaces=True)"
      ]
    },
    {
      "cell_type": "code",
      "execution_count": null,
      "metadata": {
        "id": "r8J6TKXGvlxf"
      },
      "outputs": [],
      "source": [
        "token_lens = []\n",
        "\n",
        "for txt in df.review:\n",
        "    tokens = tokenizer.encode(txt, max_length=512, truncation=True)\n",
        "    token_lens.append(len(tokens))"
      ]
    },
    {
      "cell_type": "code",
      "execution_count": null,
      "metadata": {
        "id": "_eMPulnYvlxf",
        "outputId": "3f530986-28b4-4ea6-bf8b-ab3f8bf747b1"
      },
      "outputs": [
        {
          "data": {
            "text/plain": [
              "<seaborn.axisgrid.FacetGrid at 0x35a40af80>"
            ]
          },
          "execution_count": 14,
          "metadata": {},
          "output_type": "execute_result"
        },
        {
          "data": {
            "image/png": "[encoded data removed]",
            "text/plain": [
              "<Figure size 500x500 with 1 Axes>"
            ]
          },
          "metadata": {},
          "output_type": "display_data"
        }
      ],
      "source": [
        "sns.displot(token_lens)"
      ]
    },
    {
      "cell_type": "code",
      "execution_count": null,
      "metadata": {
        "id": "IooCxv3Svlxf",
        "outputId": "c58ac020-d25a-488b-bb3d-f12d4790b0db"
      },
      "outputs": [
        {
          "name": "stdout",
          "output_type": "stream",
          "text": [
            "Warning:ReviewDataset is <class '__main__.ReviewDataset'>\n",
            "Proper storage of interactively declared classes (or instances\n",
            "of those classes) is not possible! Only instances\n",
            "of classes in real modules on file system can be %store'd.\n",
            "\n"
          ]
        }
      ],
      "source": [
        "\n",
        "\"\"\"\n",
        "class ReviewDataset(Dataset):\n",
        "    def __init__(self, review, target, tokenizer, max_len):\n",
        "        self.review = review\n",
        "        self.target = target\n",
        "        self.tokenizer = tokenizer\n",
        "        self.max_len = max_len\n",
        "\n",
        "    def __len__(self):\n",
        "        return len(self.review)\n",
        "\n",
        "    def __getitem__(self, item):\n",
        "        review = str(self.review[item])\n",
        "        target = self.target[item]\n",
        "\n",
        "        encoding = self.tokenizer.encode_plus(\n",
        "            review,\n",
        "            max_length = self.max_len,\n",
        "            add_special_tokens = True,\n",
        "            pad_to_max_length = True,\n",
        "            return_attention_mask = True,\n",
        "            return_token_type_ids = False,\n",
        "            return_tensors = 'pt' )\n",
        "        return {\n",
        "            'review_text': review,\n",
        "            'input_ids': encoding['input_ids'].flatten(),\n",
        "            'attention_mask': encoding['attention_mask'].flatten(),\n",
        "            'targets': torch.tensor(target, dtype=torch.long)\n",
        "        }\n",
        "\n",
        "\"\"\"\n"
      ]
    },
    {
      "cell_type": "code",
      "execution_count": null,
      "metadata": {
        "id": "IziNQTcavlxg"
      },
      "outputs": [],
      "source": [
        "MAX_LEN = 200\n",
        "BATCH_SIZE = 16\n",
        "EPOCHS = 20"
      ]
    },
    {
      "cell_type": "code",
      "execution_count": null,
      "metadata": {
        "id": "q_IjzofOvlxg"
      },
      "outputs": [],
      "source": [
        "df_train, df_test = train_test_split(df_to_train, test_size = 0.2, random_state = random_seed)\n",
        "df_val, df_test = train_test_split(df_to_test, test_size = 0.5, random_state = random_seed)"
      ]
    },
    {
      "cell_type": "code",
      "execution_count": null,
      "metadata": {
        "id": "vg-fpYivvlxg",
        "outputId": "23b926ee-e3cd-402e-c4d0-1ac0a4462eec"
      },
      "outputs": [
        {
          "data": {
            "text/plain": [
              "((20000, 2), (1250, 2), (1250, 2))"
            ]
          },
          "execution_count": 75,
          "metadata": {},
          "output_type": "execute_result"
        }
      ],
      "source": [
        "df_train.shape, df_val.shape, df_test.shape"
      ]
    },
    {
      "cell_type": "code",
      "execution_count": null,
      "metadata": {
        "id": "7uwY9HDnvlxg"
      },
      "outputs": [],
      "source": [
        "def create_data_loader(df, tokenizer, max_len, batch_size):\n",
        "    ds = ReviewDataset(\n",
        "        review = df.review.to_numpy(),\n",
        "        target = df.sentiment.to_numpy(),\n",
        "        tokenizer = tokenizer,\n",
        "        max_len = max_len)\n",
        "\n",
        "    return DataLoader(ds, batch_size=batch_size, num_workers=4)"
      ]
    },
    {
      "cell_type": "code",
      "execution_count": null,
      "metadata": {
        "id": "3JZ_xOUkvlxg"
      },
      "outputs": [],
      "source": [
        "train_data_loader = create_data_loader(df_train, tokenizer, MAX_LEN, BATCH_SIZE)\n",
        "val_data_loader = create_data_loader(df_val, tokenizer, MAX_LEN, BATCH_SIZE)\n",
        "test_data_loader = create_data_loader(df_test, tokenizer, MAX_LEN, BATCH_SIZE)"
      ]
    },
    {
      "cell_type": "code",
      "execution_count": null,
      "metadata": {
        "id": "LqfKWJZfvlxg",
        "outputId": "ae05b58e-5ff2-4b24-fe10-04f80bb0ddff"
      },
      "outputs": [
        {
          "data": {
            "text/plain": [
              "dict_keys(['review_text', 'input_ids', 'attention_mask', 'target'])"
            ]
          },
          "execution_count": 78,
          "metadata": {},
          "output_type": "execute_result"
        }
      ],
      "source": [
        "data = next(iter(train_data_loader))\n",
        "data.keys()"
      ]
    },
    {
      "cell_type": "code",
      "execution_count": null,
      "metadata": {
        "id": "OvWuGaTKvlxg",
        "outputId": "5153aba5-3d61-458b-c6bf-f0058548ae00"
      },
      "outputs": [
        {
          "name": "stdout",
          "output_type": "stream",
          "text": [
            "torch.Size([16, 200])\n",
            "torch.Size([16, 200])\n",
            "torch.Size([16])\n"
          ]
        }
      ],
      "source": [
        "print(data['input_ids'].shape)\n",
        "print(data['attention_mask'].shape)\n",
        "print(data['target'].shape)"
      ]
    },
    {
      "cell_type": "markdown",
      "metadata": {
        "id": "2rsRAHGKt5CT"
      },
      "source": [
        "## 2.  Instantiate Model"
      ]
    },
    {
      "cell_type": "markdown",
      "metadata": {
        "jp-MarkdownHeadingCollapsed": true,
        "id": "C6JdfASWvlxg"
      },
      "source": [
        "### Transformer 1"
      ]
    },
    {
      "cell_type": "code",
      "execution_count": null,
      "metadata": {
        "id": "ePMwwHb2vlxg",
        "outputId": "700884f1-f15c-411d-994f-9b8de8069b5c"
      },
      "outputs": [
        {
          "name": "stderr",
          "output_type": "stream",
          "text": [
            "Exception ignored in: <function _MultiProcessingDataLoaderIter.__del__ at 0x1256db010>\n",
            "Traceback (most recent call last):\n",
            "  File \"/opt/anaconda3/lib/python3.10/site-packages/torch/utils/data/dataloader.py\", line 1477, in __del__\n",
            "    self._shutdown_workers()\n",
            "  File \"/opt/anaconda3/lib/python3.10/site-packages/torch/utils/data/dataloader.py\", line 1441, in _shutdown_workers\n",
            "    w.join(timeout=_utils.MP_STATUS_CHECK_INTERVAL)\n",
            "  File \"/opt/anaconda3/lib/python3.10/multiprocessing/process.py\", line 149, in join\n",
            "    res = self._popen.wait(timeout)\n",
            "  File \"/opt/anaconda3/lib/python3.10/multiprocessing/popen_fork.py\", line 40, in wait\n",
            "    if not wait([self.sentinel], timeout):\n",
            "  File \"/opt/anaconda3/lib/python3.10/multiprocessing/connection.py\", line 931, in wait\n",
            "    ready = selector.select(timeout)\n",
            "  File \"/opt/anaconda3/lib/python3.10/selectors.py\", line 416, in select\n",
            "    fd_event_list = self._selector.poll(timeout)\n",
            "KeyboardInterrupt: \n",
            "/opt/anaconda3/lib/python3.10/site-packages/transformers/tokenization_utils_base.py:1601: FutureWarning: `clean_up_tokenization_spaces` was not set. It will be set to `True` by default. This behavior will be depracted in transformers v4.45, and will be then set to `False` by default. For more details check this issue: https://github.com/huggingface/transformers/issues/31884\n",
            "  warnings.warn(\n"
          ]
        }
      ],
      "source": [
        "tokenizer = DistilBertTokenizer.from_pretrained('distilbert-base-uncased-finetuned-sst-2-english')\n",
        "model = DistilBertForSequenceClassification.from_pretrained('distilbert-base-uncased-finetuned-sst-2-english')\n",
        "nlp = pipeline('sentiment-analysis', model = model, tokenizer = tokenizer, device=0)"
      ]
    },
    {
      "cell_type": "code",
      "execution_count": null,
      "metadata": {
        "id": "PIdefyDEvlxg"
      },
      "outputs": [],
      "source": [
        "text = list(df.review.values)"
      ]
    },
    {
      "cell_type": "code",
      "execution_count": null,
      "metadata": {
        "collapsed": true,
        "id": "fK1Vcs9Kvlxg"
      },
      "outputs": [],
      "source": [
        "res = nlp(text, truncation=True)"
      ]
    },
    {
      "cell_type": "code",
      "execution_count": null,
      "metadata": {
        "id": "gBDhVvwzvlxg"
      },
      "outputs": [],
      "source": [
        "pred = [1 if r['label'] == 'POSITIVE' else 0 for r in res]\n"
      ]
    },
    {
      "cell_type": "code",
      "execution_count": null,
      "metadata": {
        "id": "YbYVGVLFvlxg"
      },
      "outputs": [],
      "source": [
        "df['pred'] = pred\n",
        "df"
      ]
    },
    {
      "cell_type": "code",
      "execution_count": null,
      "metadata": {
        "id": "EwTecV2Avlxg"
      },
      "outputs": [],
      "source": [
        "print('Accuracy: ', accuracy_score(df.sentiment.values, pred))\n",
        "print('Precision: ', precision_score(df.sentiment.values, pred, average=None))\n",
        "print('Recall: ', recall_score(df.sentiment.values, pred, average=None))"
      ]
    },
    {
      "cell_type": "markdown",
      "metadata": {
        "id": "Ke89G38Svlxg"
      },
      "source": [
        "### Transformer 2"
      ]
    },
    {
      "cell_type": "code",
      "execution_count": null,
      "metadata": {
        "id": "c71_UCUAvlxg"
      },
      "outputs": [],
      "source": [
        "bert_model = BertModel.from_pretrained('bert-base-uncased')"
      ]
    },
    {
      "cell_type": "code",
      "execution_count": null,
      "metadata": {
        "id": "vRTD_tE-vlxg"
      },
      "outputs": [],
      "source": [
        "class SentimentClassifier(nn.Module):\n",
        "\n",
        "    def __init__(self, n_classes):\n",
        "        super(SentimentClassifier, self).__init__()\n",
        "        self.bert = BertModel.from_pretrained('bert-base-uncased')\n",
        "        self.drop = nn.Dropout(p=0.3)\n",
        "        self.out = nn.Linear(self.bert.config.hidden_size, n_classes)\n",
        "        self.softmax = nn.Softmax(dim=1)\n",
        "\n",
        "    def forward(self, input_ids, attention_mask):\n",
        "        outputs = self.bert(\n",
        "        input_ids=input_ids,\n",
        "        attention_mask=attention_mask,\n",
        "        return_dict=True)\n",
        "        pooled_output = outputs.pooler_output\n",
        "        output = self.drop(pooled_output)\n",
        "        output = self.out(output)\n",
        "        return self.softmax(output)"
      ]
    },
    {
      "cell_type": "code",
      "execution_count": null,
      "metadata": {
        "id": "dS48tA2Xvlxg"
      },
      "outputs": [],
      "source": [
        "model = SentimentClassifier(2)\n",
        "model = model.to(device)"
      ]
    },
    {
      "cell_type": "code",
      "execution_count": null,
      "metadata": {
        "id": "HY7JfkBPvlxg",
        "outputId": "01bd6439-ba67-4eb6-98b8-676ae3315c0c"
      },
      "outputs": [
        {
          "name": "stdout",
          "output_type": "stream",
          "text": [
            "torch.Size([16, 200])\n",
            "torch.Size([16, 200])\n"
          ]
        }
      ],
      "source": [
        "input_ids = data['input_ids'].to(device)\n",
        "attention_mask = data['attention_mask'].to(device)\n",
        "\n",
        "print(input_ids.shape)\n",
        "print(attention_mask.shape)"
      ]
    },
    {
      "cell_type": "code",
      "execution_count": null,
      "metadata": {
        "id": "zjVFwy-Tvlxg",
        "outputId": "ce3c611a-954e-4a24-98cd-7356f9bb98a9"
      },
      "outputs": [
        {
          "data": {
            "text/plain": [
              "tensor([[0.4146, 0.5854],\n",
              "        [0.3858, 0.6142],\n",
              "        [0.4703, 0.5297],\n",
              "        [0.4079, 0.5921],\n",
              "        [0.4065, 0.5935],\n",
              "        [0.3599, 0.6401],\n",
              "        [0.4574, 0.5426],\n",
              "        [0.3898, 0.6102],\n",
              "        [0.5569, 0.4431],\n",
              "        [0.4093, 0.5907],\n",
              "        [0.6656, 0.3344],\n",
              "        [0.3969, 0.6031],\n",
              "        [0.3953, 0.6047],\n",
              "        [0.4385, 0.5615],\n",
              "        [0.4489, 0.5511],\n",
              "        [0.4742, 0.5258]], device='mps:0', grad_fn=<SoftmaxBackward0>)"
            ]
          },
          "execution_count": 113,
          "metadata": {},
          "output_type": "execute_result"
        }
      ],
      "source": [
        "model(input_ids, attention_mask)"
      ]
    },
    {
      "cell_type": "markdown",
      "metadata": {
        "id": "kO7lmEnXvlxg"
      },
      "source": [
        "#### Training"
      ]
    },
    {
      "cell_type": "code",
      "execution_count": null,
      "metadata": {
        "id": "5epXKa9Qvlxg"
      },
      "outputs": [],
      "source": [
        "optimizer = AdamW(model.parameters(), lr=2e-5, correct_bias = False)\n",
        "total_steps = len(train_data_loader) * EPOCHS\n",
        "\n",
        "scheduler = get_linear_schedule_with_warmup(\n",
        "    optimizer,\n",
        "    num_warmup_steps=0,\n",
        "    num_training_steps=total_steps)\n",
        "loss_fn = nn.CrossEntropyLoss().to(device)"
      ]
    },
    {
      "cell_type": "code",
      "execution_count": null,
      "metadata": {
        "id": "zszmXgkwvlxg"
      },
      "outputs": [],
      "source": [
        "def train_epoch(\n",
        "    model,\n",
        "    data_loader,\n",
        "    loss_fn,\n",
        "    optimizer,\n",
        "    device,\n",
        "    scheduler,\n",
        "    n_examples):\n",
        "\n",
        "    model = model.train()\n",
        "    losses = []\n",
        "    correct_preds = 0\n",
        "\n",
        "    for d in data_loader:\n",
        "        input_ids = d['input_ids'].to(device)\n",
        "        attention_mask = d['attention_mask'].to(device)\n",
        "        targets = d['target'].to(device)\n",
        "\n",
        "        outputs = model(\n",
        "            input_ids = input_ids,\n",
        "            attention_mask = attention_mask)\n",
        "        _, pred = torch.max(outputs, dim=1)\n",
        "        loss = loss_fn(outputs, targets)\n",
        "        correct_preds += torch.sum(pred == targets)\n",
        "        losses.append(loss.item())\n",
        "        loss.backward()\n",
        "        nn.utils.clip_grad_norm_(model.parameters(), max_norm=1.0)\n",
        "        optimizer.step()\n",
        "        scheduler.step()\n",
        "        optimizer.zero_grad()\n",
        "    return correct_preds.float() / n_examples, np.mean(losses)"
      ]
    },
    {
      "cell_type": "code",
      "execution_count": null,
      "metadata": {
        "id": "byexiRnyvlxh"
      },
      "outputs": [],
      "source": [
        "def eval_model(model, data_loader, loss_fn, device, n_examples):\n",
        "    model = model.eval()\n",
        "    losses = []\n",
        "    correct_preds = 0\n",
        "    with torch.no_grad():\n",
        "        for d in data_loader:\n",
        "            input_ids = d['input_ids'].to(device)\n",
        "            attention_mask = d['attention_mask'].to(device)\n",
        "            targets = d['target'].to(device)\n",
        "\n",
        "            outputs = model(\n",
        "                input_ids = input_ids,\n",
        "                attention_mask = attention_mask)\n",
        "            _, pred = torch.max(outputs, dim=1)\n",
        "            loss = loss_fn(outputs, targets)\n",
        "            correct_preds += torch.sum(pred == targets)\n",
        "            losses.append(loss.item())\n",
        "    return correct_preds.float() / n_examples, np.mean(losses)\n"
      ]
    },
    {
      "cell_type": "code",
      "execution_count": null,
      "metadata": {
        "id": "bOoGrFQJvlxh",
        "outputId": "bcf5063a-658b-4403-e037-848b2c4449dc"
      },
      "outputs": [
        {
          "name": "stdout",
          "output_type": "stream",
          "text": [
            "Epoch 1 / 20\n",
            "----------\n",
            "Train loss 0.44506067566871643 accuracy 0.866100013256073\n",
            "Val loss 0.4540573788594596 accuracy 0.8575999736785889\n",
            "\n",
            "Epoch 2 / 20\n",
            "----------\n",
            "Train loss 0.44071427328586577 accuracy 0.8718000054359436\n",
            "Val loss 0.45862453346011006 accuracy 0.8568000197410583\n",
            "\n",
            "Epoch 3 / 20\n",
            "----------\n",
            "Train loss 0.43446627323627474 accuracy 0.8777999877929688\n",
            "Val loss 0.44889135488980936 accuracy 0.8543999791145325\n",
            "\n",
            "Epoch 4 / 20\n",
            "----------\n",
            "Train loss 0.4313680054664612 accuracy 0.8816999793052673\n",
            "Val loss 0.44716219207908536 accuracy 0.864799976348877\n",
            "\n",
            "Epoch 5 / 20\n",
            "----------\n",
            "Train loss 0.42811460916996 accuracy 0.8844000101089478\n",
            "Val loss 0.4539958996863305 accuracy 0.8623999953269958\n",
            "\n",
            "Epoch 6 / 20\n",
            "----------\n",
            "Train loss 0.42593277926445006 accuracy 0.8863000273704529\n",
            "Val loss 0.44556558584865136 accuracy 0.8687999844551086\n",
            "\n",
            "Epoch 7 / 20\n",
            "----------\n",
            "Train loss 0.42256339581012725 accuracy 0.8881000280380249\n",
            "Val loss 0.4546898652481127 accuracy 0.86080002784729\n",
            "\n",
            "Epoch 8 / 20\n",
            "----------\n",
            "Train loss 0.42205821990966796 accuracy 0.8901000022888184\n",
            "Val loss 0.45394737358334697 accuracy 0.8632000088691711\n",
            "\n",
            "Epoch 9 / 20\n",
            "----------\n",
            "Train loss 0.419228700876236 accuracy 0.8928999900817871\n",
            "Val loss 0.4517134039462367 accuracy 0.8640000224113464\n",
            "\n",
            "Epoch 10 / 20\n",
            "----------\n",
            "Train loss 0.4137962806463242 accuracy 0.897350013256073\n",
            "Val loss 0.44723847131185895 accuracy 0.8655999898910522\n",
            "\n",
            "Epoch 11 / 20\n",
            "----------\n",
            "Train loss 0.41591856524944304 accuracy 0.8956000208854675\n",
            "Val loss 0.4376456431950195 accuracy 0.8695999979972839\n",
            "\n",
            "Epoch 12 / 20\n",
            "----------\n",
            "Train loss 0.408133909535408 accuracy 0.9031000137329102\n",
            "Val loss 0.4436963457095472 accuracy 0.8640000224113464\n",
            "\n",
            "Epoch 13 / 20\n",
            "----------\n",
            "Train loss 0.4056157032012939 accuracy 0.9057000279426575\n",
            "Val loss 0.44174982928022555 accuracy 0.871999979019165\n",
            "\n",
            "Epoch 14 / 20\n",
            "----------\n",
            "Train loss 0.4047709017276764 accuracy 0.9078999757766724\n",
            "Val loss 0.44487426250795775 accuracy 0.8704000115394592\n",
            "\n",
            "Epoch 15 / 20\n",
            "----------\n",
            "Train loss 0.4053774743318558 accuracy 0.9074500203132629\n",
            "Val loss 0.44585186959821965 accuracy 0.8712000250816345\n",
            "\n",
            "Epoch 16 / 20\n",
            "----------\n",
            "Train loss 0.4049194115638733 accuracy 0.9082499742507935\n",
            "Val loss 0.44585186959821965 accuracy 0.8712000250816345\n",
            "\n",
            "Epoch 17 / 20\n",
            "----------\n",
            "Train loss 0.40560477595329286 accuracy 0.9070500135421753\n",
            "Val loss 0.44585186959821965 accuracy 0.8712000250816345\n",
            "\n",
            "Epoch 18 / 20\n",
            "----------\n",
            "Train loss 0.40535644743442534 accuracy 0.9075499773025513\n",
            "Val loss 0.44585186959821965 accuracy 0.8712000250816345\n",
            "\n",
            "Epoch 19 / 20\n",
            "----------\n",
            "Train loss 0.4053612735271454 accuracy 0.9075999855995178\n",
            "Val loss 0.44585186959821965 accuracy 0.8712000250816345\n",
            "\n",
            "Epoch 20 / 20\n",
            "----------\n",
            "Train loss 0.4052318709373474 accuracy 0.9076499938964844\n",
            "Val loss 0.44585186959821965 accuracy 0.8712000250816345\n",
            "\n",
            "CPU times: user 29min 29s, sys: 7min 45s, total: 37min 15s\n",
            "Wall time: 12h 4min 22s\n"
          ]
        }
      ],
      "source": [
        "%%time\n",
        "history = defaultdict(list)\n",
        "best_accuracy = 0\n",
        "for epoch in range(EPOCHS):\n",
        "    print(f'Epoch {epoch +1} / {EPOCHS}')\n",
        "    print('-' * 10)\n",
        "    train_acc, train_loss = train_epoch(\n",
        "    model,\n",
        "    train_data_loader,\n",
        "    loss_fn,\n",
        "    optimizer,\n",
        "    device,\n",
        "    scheduler,\n",
        "    len(df_train)\n",
        "    )\n",
        "    print(f'Train loss {train_loss} accuracy {train_acc}')\n",
        "\n",
        "    val_acc, val_loss = eval_model(\n",
        "        model,\n",
        "        val_data_loader,\n",
        "        loss_fn,\n",
        "        device,\n",
        "        len(df_val)\n",
        "    )\n",
        "    print(f'Val loss {val_loss} accuracy {val_acc}')\n",
        "    print()\n",
        "\n",
        "    history['train_acc'].append(train_acc)\n",
        "    history['train_loss'].append(train_loss)\n",
        "\n",
        "    history['val_acc'].append(val_acc)\n",
        "    history['val_loss'].append(val_loss)\n",
        "\n",
        "    if val_acc > best_accuracy:\n",
        "        torch.save(model.state_dict(), 'best_model_state.bin')\n",
        "        best_accuracy = val_acc\n",
        "\n"
      ]
    },
    {
      "cell_type": "code",
      "execution_count": null,
      "metadata": {
        "id": "Zrnf4OCKvlxh"
      },
      "outputs": [],
      "source": [
        "model = SentimentClassifier(2)\n",
        "model.load_state_dict(torch.load('best_model_state.bin'))\n",
        "model = model.to(device)"
      ]
    },
    {
      "cell_type": "markdown",
      "metadata": {
        "id": "pbu_PPnsvlxh"
      },
      "source": [
        "#### Evaluation"
      ]
    },
    {
      "cell_type": "code",
      "execution_count": null,
      "metadata": {
        "id": "Kb-VEvpPvlxh"
      },
      "outputs": [],
      "source": [
        "def get_predictions(model, data_loader):\n",
        "    model = model.eval()\n",
        "    review_texts = []\n",
        "    predictions = []\n",
        "    pred_probs = []\n",
        "    real_value = []\n",
        "\n",
        "    with torch.no_grad():\n",
        "        for d in data_loader:\n",
        "            texts = d['review_text']\n",
        "            input_ids = d['input_ids'].to(device)\n",
        "            attention_mask = d['attention_mask'].to(device)\n",
        "            targets = d['target'].to(device)\n",
        "\n",
        "            outputs = model(\n",
        "                input_ids = input_ids,\n",
        "                attention_mask = attention_mask)\n",
        "            _, pred = torch.max(outputs, dim=1)\n",
        "            review_texts.extend(texts)\n",
        "            predictions.extend(pred)\n",
        "            pred_probs.extend(outputs)\n",
        "            real_value.extend(targets)\n",
        "\n",
        "    predictions = torch.stack(predictions).cpu()\n",
        "    pred_probs = torch.stack(pred_probs).cpu()\n",
        "    real_value = torch.stack(real_value).cpu()\n",
        "    return review_texts, predictions, pred_probs, real_value\n",
        "\n",
        "\n"
      ]
    },
    {
      "cell_type": "code",
      "execution_count": null,
      "metadata": {
        "id": "yYQvxzxkvlxh"
      },
      "outputs": [],
      "source": [
        "y_review_texts, y_pred, y_pred_probs, y_test = get_predictions(model, test_data_loader)"
      ]
    },
    {
      "cell_type": "code",
      "execution_count": null,
      "metadata": {
        "id": "dD0I8bSnvlxh"
      },
      "outputs": [],
      "source": [
        "test_acc, test_loss = eval_model(model, test_data_loader, loss_fn, device, len(df_test))"
      ]
    },
    {
      "cell_type": "code",
      "execution_count": null,
      "metadata": {
        "id": "lqSFmq-avlxh",
        "outputId": "b145b0f2-d472-405a-fc91-a9b733dc177d"
      },
      "outputs": [
        {
          "data": {
            "text/plain": [
              "tensor(0.8872, device='mps:0')"
            ]
          },
          "execution_count": 143,
          "metadata": {},
          "output_type": "execute_result"
        }
      ],
      "source": [
        "test_acc"
      ]
    },
    {
      "cell_type": "code",
      "execution_count": null,
      "metadata": {
        "id": "eRK9RURdvlxh"
      },
      "outputs": [],
      "source": [
        "class_names = ['0', '1']"
      ]
    },
    {
      "cell_type": "code",
      "execution_count": null,
      "metadata": {
        "id": "Wpcto4zjvlxh",
        "outputId": "2b5d52c4-6ed1-4ba2-ea51-1960a556b797"
      },
      "outputs": [
        {
          "name": "stdout",
          "output_type": "stream",
          "text": [
            "              precision    recall  f1-score   support\n",
            "\n",
            "           0       0.88      0.89      0.88       606\n",
            "           1       0.89      0.89      0.89       644\n",
            "\n",
            "    accuracy                           0.89      1250\n",
            "   macro avg       0.89      0.89      0.89      1250\n",
            "weighted avg       0.89      0.89      0.89      1250\n",
            "\n"
          ]
        }
      ],
      "source": [
        "print(classification_report(y_test, y_pred, target_names=class_names))"
      ]
    },
    {
      "cell_type": "code",
      "execution_count": null,
      "metadata": {
        "id": "j5Ph1jlkvlxh"
      },
      "outputs": [],
      "source": [
        "def show_confusion_matrix(confusion_matrix):\n",
        "    hmap = sns.heatmap(confusion_matrix, annot=True, fmt='d', cmap='Blues')\n",
        "    hmap.yaxis.set_ticklabels(hmap.yaxis.get_ticklabels(), rotation=0, ha='right')\n",
        "    hmap.xaxis.set_ticklabels(hmap.xaxis.get_ticklabels(), rotation=0, ha='right')\n",
        "    plt.ylabel('True sentiment')\n",
        "    plt.xlabel('Predicted sentiment')\n"
      ]
    },
    {
      "cell_type": "code",
      "execution_count": null,
      "metadata": {
        "id": "eGuQbwlvvlxh",
        "outputId": "63883b05-1795-4ec8-c0f7-5e39f529fc9c"
      },
      "outputs": [
        {
          "data": {
            "image/png": "[encoded data removed]",
            "text/plain": [
              "<Figure size 640x480 with 2 Axes>"
            ]
          },
          "metadata": {},
          "output_type": "display_data"
        }
      ],
      "source": [
        "cm = confusion_matrix(y_test, y_pred)\n",
        "df_cm = pd.DataFrame(cm, index=class_names, columns=class_names)\n",
        "show_confusion_matrix(df_cm)"
      ]
    },
    {
      "cell_type": "code",
      "execution_count": null,
      "metadata": {
        "id": "AYrfmFM9vlxh"
      },
      "outputs": [],
      "source": [
        "idx = 10\n",
        "pred_df = pd.DataFrame({\n",
        "  'class_names': class_names,\n",
        "  'values': y_pred_probs[idx]\n",
        "})\n"
      ]
    },
    {
      "cell_type": "code",
      "execution_count": null,
      "metadata": {
        "id": "RJVascLmvlxh",
        "outputId": "87c22f05-c4d3-47c1-8d42-b5b8d36698a1"
      },
      "outputs": [
        {
          "data": {
            "text/plain": [
              "(0.0, 1.0)"
            ]
          },
          "execution_count": 171,
          "metadata": {},
          "output_type": "execute_result"
        },
        {
          "data": {
            "image/png": "[encoded data removed]",
            "text/plain": [
              "<Figure size 640x480 with 1 Axes>"
            ]
          },
          "metadata": {},
          "output_type": "display_data"
        }
      ],
      "source": [
        "sns.barplot(x='values', y='class_names', data=pred_df, orient='h')\n",
        "plt.ylabel('sentiment')\n",
        "plt.xlabel('probability')\n",
        "plt.xlim([0,1])"
      ]
    }
  ],
  "metadata": {
    "colab": {
      "provenance": []
    },
    "kernelspec": {
      "display_name": "Python 3 (ipykernel)",
      "language": "python",
      "name": "python3"
    },
    "language_info": {
      "codemirror_mode": {
        "name": "ipython",
        "version": 3
      },
      "file_extension": ".py",
      "mimetype": "text/x-python",
      "name": "python",
      "nbconvert_exporter": "python",
      "pygments_lexer": "ipython3",
      "version": "3.10.14"
    }
  },
  "nbformat": 4,
  "nbformat_minor": 0
}