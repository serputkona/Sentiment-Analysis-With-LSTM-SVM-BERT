{
  "cells": [
    {
      "cell_type": "markdown",
      "metadata": {
        "id": "Vw-hnUl810fo"
      },
      "source": [
        "##Import"
      ]
    },
    {
      "cell_type": "code",
      "execution_count": null,
      "metadata": {
        "id": "RZr-EG8Pesup"
      },
      "outputs": [],
      "source": [
        "import pandas as pd\n",
        "import numpy as np\n",
        "from sklearn.model_selection import GridSearchCV\n",
        "from sklearn import svm\n",
        "from sklearn.svm import SVC\n",
        "from sklearn.model_selection import train_test_split\n",
        "from sklearn.feature_extraction.text import CountVectorizer, TfidfVectorizer\n",
        "from sklearn.svm import SVC\n",
        "from sklearn.ensemble import RandomForestClassifier, GradientBoostingClassifier, StackingClassifier, RandomForestClassifier\n",
        "from sklearn.metrics import f1_score, accuracy_score, precision_score, recall_score\n",
        "from sklearn.linear_model import LogisticRegression\n",
        "import matplotlib.pyplot as plt\n",
        "import seaborn as sns\n",
        "import re\n",
        "import nltk\n",
        "from nltk.corpus import stopwords\n",
        "from nltk.tokenize import word_tokenize\n"
      ]
    },
    {
      "cell_type": "markdown",
      "metadata": {
        "id": "R7cZkF2MpDP5"
      },
      "source": [
        "##Data loading"
      ]
    },
    {
      "cell_type": "code",
      "execution_count": null,
      "metadata": {
        "id": "h5_2mfudwFgf",
        "outputId": "26a3fcbd-61e9-4c14-ca8e-99e4ca55eb64"
      },
      "outputs": [
        {
          "data": {
            "text/html": [
              "<div>\n",
              "<style scoped>\n",
              "    .dataframe tbody tr th:only-of-type {\n",
              "        vertical-align: middle;\n",
              "    }\n",
              "\n",
              "    .dataframe tbody tr th {\n",
              "        vertical-align: top;\n",
              "    }\n",
              "\n",
              "    .dataframe thead th {\n",
              "        text-align: right;\n",
              "    }\n",
              "</style>\n",
              "<table border=\"1\" class=\"dataframe\">\n",
              "  <thead>\n",
              "    <tr style=\"text-align: right;\">\n",
              "      <th></th>\n",
              "      <th>review</th>\n",
              "      <th>sentiment</th>\n",
              "    </tr>\n",
              "  </thead>\n",
              "  <tbody>\n",
              "    <tr>\n",
              "      <th>0</th>\n",
              "      <td>one reviewer mentioned watching oz episode hoo...</td>\n",
              "      <td>1</td>\n",
              "    </tr>\n",
              "    <tr>\n",
              "      <th>1</th>\n",
              "      <td>wonderful little production filming technique ...</td>\n",
              "      <td>1</td>\n",
              "    </tr>\n",
              "    <tr>\n",
              "      <th>2</th>\n",
              "      <td>thought wonderful way spend time hot summer we...</td>\n",
              "      <td>1</td>\n",
              "    </tr>\n",
              "    <tr>\n",
              "      <th>3</th>\n",
              "      <td>basically family little boy jake think zombie ...</td>\n",
              "      <td>0</td>\n",
              "    </tr>\n",
              "    <tr>\n",
              "      <th>4</th>\n",
              "      <td>petter mattei love time money visually stunnin...</td>\n",
              "      <td>1</td>\n",
              "    </tr>\n",
              "    <tr>\n",
              "      <th>...</th>\n",
              "      <td>...</td>\n",
              "      <td>...</td>\n",
              "    </tr>\n",
              "    <tr>\n",
              "      <th>49995</th>\n",
              "      <td>thought movie right good job creative original...</td>\n",
              "      <td>1</td>\n",
              "    </tr>\n",
              "    <tr>\n",
              "      <th>49996</th>\n",
              "      <td>bad plot bad dialogue bad acting idiotic direc...</td>\n",
              "      <td>0</td>\n",
              "    </tr>\n",
              "    <tr>\n",
              "      <th>49997</th>\n",
              "      <td>catholic taught parochial elementary school nu...</td>\n",
              "      <td>0</td>\n",
              "    </tr>\n",
              "    <tr>\n",
              "      <th>49998</th>\n",
              "      <td>going disagree previous comment side maltin on...</td>\n",
              "      <td>0</td>\n",
              "    </tr>\n",
              "    <tr>\n",
              "      <th>49999</th>\n",
              "      <td>one expects star trek movie high art fan expec...</td>\n",
              "      <td>0</td>\n",
              "    </tr>\n",
              "  </tbody>\n",
              "</table>\n",
              "<p>50000 rows × 2 columns</p>\n",
              "</div>"
            ],
            "text/plain": [
              "                                                  review  sentiment\n",
              "0      one reviewer mentioned watching oz episode hoo...          1\n",
              "1      wonderful little production filming technique ...          1\n",
              "2      thought wonderful way spend time hot summer we...          1\n",
              "3      basically family little boy jake think zombie ...          0\n",
              "4      petter mattei love time money visually stunnin...          1\n",
              "...                                                  ...        ...\n",
              "49995  thought movie right good job creative original...          1\n",
              "49996  bad plot bad dialogue bad acting idiotic direc...          0\n",
              "49997  catholic taught parochial elementary school nu...          0\n",
              "49998  going disagree previous comment side maltin on...          0\n",
              "49999  one expects star trek movie high art fan expec...          0\n",
              "\n",
              "[50000 rows x 2 columns]"
            ]
          },
          "execution_count": 2,
          "metadata": {},
          "output_type": "execute_result"
        }
      ],
      "source": [
        "df = pd.read_csv('clean_data.csv')\n",
        "df"
      ]
    },
    {
      "cell_type": "code",
      "execution_count": null,
      "metadata": {
        "id": "3Wzb7QDpNkPx"
      },
      "outputs": [],
      "source": [
        "X_train, X_test, y_train, y_test = train_test_split(df['review'].values, df['sentiment'].values, test_size=0.2, random_state=42)"
      ]
    },
    {
      "cell_type": "markdown",
      "metadata": {
        "id": "Uzz1FXXAQAEN"
      },
      "source": [
        "##Word Vectors\n"
      ]
    },
    {
      "cell_type": "code",
      "execution_count": null,
      "metadata": {
        "id": "dpTZ0vfURGUE",
        "collapsed": true
      },
      "outputs": [],
      "source": [
        "!pip install spacy\n",
        "!python -m spacy download en_core_web_md"
      ]
    },
    {
      "cell_type": "code",
      "execution_count": null,
      "metadata": {
        "id": "g8_Vvd7YR1gO"
      },
      "outputs": [],
      "source": [
        "import spacy\n",
        "nlp = spacy.load('en_core_web_md')"
      ]
    },
    {
      "cell_type": "code",
      "execution_count": null,
      "metadata": {
        "id": "LU1WxntEjay3"
      },
      "outputs": [],
      "source": [
        "train_docs = [nlp(text) for text in X_train]\n",
        "test_docs = [nlp(text) for text in X_test]"
      ]
    },
    {
      "cell_type": "code",
      "execution_count": null,
      "metadata": {
        "id": "rEgpj9dqkCNP"
      },
      "outputs": [],
      "source": [
        "X_train = [x.vector for x in train_docs]\n",
        "X_test = [x.vector for x in test_docs]"
      ]
    },
    {
      "cell_type": "code",
      "execution_count": null,
      "metadata": {
        "colab": {
          "base_uri": "https://localhost:8080/"
        },
        "id": "nx-smuTiEQnh",
        "outputId": "b114e6e3-034f-4db7-af30-52c70bf64c77"
      },
      "outputs": [
        {
          "data": {
            "text/plain": [
              "(40000, 40000, 10000, 10000)"
            ]
          },
          "execution_count": 16,
          "metadata": {},
          "output_type": "execute_result"
        }
      ],
      "source": [
        "len(X_train), len(y_train), len(X_test), len(y_test)"
      ]
    },
    {
      "cell_type": "markdown",
      "metadata": {
        "id": "ikbuAikshKi7"
      },
      "source": [
        "##Bag of words - TF-IDF (better)\n"
      ]
    },
    {
      "cell_type": "code",
      "execution_count": null,
      "metadata": {
        "id": "AEyPSbaFhQIo"
      },
      "outputs": [],
      "source": [
        "vectorizer = TfidfVectorizer()\n",
        "X_train = vectorizer.fit_transform(X_train)\n",
        "X_test = vectorizer.transform(X_test)\n",
        "\n"
      ]
    },
    {
      "cell_type": "code",
      "execution_count": null,
      "metadata": {
        "colab": {
          "base_uri": "https://localhost:8080/"
        },
        "id": "_ZLQtUOYO1M6",
        "outputId": "2d58d880-df7c-4bae-c964-3b076ba893bc"
      },
      "outputs": [
        {
          "name": "stdout",
          "output_type": "stream",
          "text": [
            "Train Data: Positive: 19961 Negative: 20039\n",
            "Test Data: Positive: 5039 Negative: 4961\n"
          ]
        }
      ],
      "source": [
        "from collections import Counter\n",
        "\n",
        "# Assuming your labels are in y_train and y_test\n",
        "y_train_counts = Counter(y_train)\n",
        "y_test_counts = Counter(y_test)\n",
        "\n",
        "positive_train = y_train_counts[1]\n",
        "negative_train = y_train_counts[0]\n",
        "\n",
        "positive_test = y_test_counts[1]\n",
        "negative_test = y_test_counts[0]\n",
        "\n",
        "print(\"Train Data: Positive:\", positive_train, \"Negative:\", negative_train)\n",
        "print(\"Test Data: Positive:\", positive_test, \"Negative:\", negative_test)\n"
      ]
    },
    {
      "cell_type": "markdown",
      "metadata": {
        "id": "csYcLUn3ylYf"
      },
      "source": [
        "##Classification SVM"
      ]
    },
    {
      "cell_type": "markdown",
      "metadata": {
        "id": "aIAdbIwdbKgt"
      },
      "source": [
        "### Linear SVM"
      ]
    },
    {
      "cell_type": "code",
      "execution_count": null,
      "metadata": {
        "id": "RaJWKVZkbOFz"
      },
      "outputs": [],
      "source": [
        "clf_svm = svm.SVC(kernel='rbf', C=8)\n",
        "clf_svm.fit(X_train, y_train)\n",
        "y_pred = clf_svm.predict(X_test)"
      ]
    },
    {
      "cell_type": "code",
      "execution_count": null,
      "metadata": {
        "colab": {
          "base_uri": "https://localhost:8080/"
        },
        "id": "XqVcQ0WNYKiP",
        "outputId": "395d4931-d013-4120-881f-3d7130b1733e"
      },
      "outputs": [
        {
          "name": "stdout",
          "output_type": "stream",
          "text": [
            "Test F1 score: [0.90164437 0.90567147].\n",
            "Test Accuracy score: 0.9037.\n",
            "Test Recall score: [0.88973997 0.91744394].\n",
            "Test Precision score: [0.91387164 0.89419729].\n"
          ]
        }
      ],
      "source": [
        "f1_svm = f1_score(y_test, y_pred, average=None)\n",
        "acc_svm = accuracy_score(y_test, y_pred)\n",
        "recall_svm = recall_score(y_test, y_pred, average=None)\n",
        "precision_svm = precision_score(y_test, y_pred, average=None)\n",
        "print(f'Test F1 score: {f1_svm}.')\n",
        "print(f'Test Accuracy score: {acc_svm}.')\n",
        "print(f'Test Recall score: {recall_svm}.')\n",
        "print(f'Test Precision score: {precision_svm}.')"
      ]
    },
    {
      "cell_type": "code",
      "execution_count": null,
      "metadata": {
        "colab": {
          "base_uri": "https://localhost:8080/"
        },
        "id": "hlESNSOGjEYd",
        "outputId": "6d2d2edf-37f9-4be9-8d8f-5eac208d82d3"
      },
      "outputs": [
        {
          "name": "stdout",
          "output_type": "stream",
          "text": [
            "Test F1 score: [0.85791475 0.85808515].\n",
            "Test Accuracy score: 0.858.\n",
            "Test Recall score: [0.86414029 0.85195475].\n",
            "Test Precision score: [0.85177826 0.86430441].\n"
          ]
        }
      ],
      "source": [
        "random_forest = RandomForestClassifier()\n",
        "random_forest.fit(X_train, y_train)\n",
        "y_pred = random_forest.predict(X_test)\n",
        "f1_rf = f1_score(y_test, y_pred, average=None)\n",
        "acc_rf = accuracy_score(y_test, y_pred)\n",
        "recall_rf = recall_score(y_test, y_pred, average=None)\n",
        "precision_rf = precision_score(y_test, y_pred, average=None)\n",
        "print(f'Test F1 score: {f1_rf}.')\n",
        "print(f'Test Accuracy score: {acc_rf}.')\n",
        "print(f'Test Recall score: {recall_rf}.')\n",
        "print(f'Test Precision score: {precision_rf}.')"
      ]
    },
    {
      "cell_type": "code",
      "execution_count": null,
      "metadata": {
        "colab": {
          "background_save": true
        },
        "id": "kg5C7nXZpg_0",
        "outputId": "333b6218-0584-4c4c-d4a8-6ab8ec366952"
      },
      "outputs": [
        {
          "name": "stdout",
          "output_type": "stream",
          "text": [
            "Test F1 score: [0.8031044  0.82518407].\n",
            "Test Accuracy score: 0.8148.\n",
            "Test Recall score: [0.76133844 0.86743401].\n",
            "Test Precision score: [0.84971879 0.78685869].\n"
          ]
        }
      ],
      "source": [
        "gradient_boosting = GradientBoostingClassifier()\n",
        "gradient_boosting.fit(X_train, y_train)\n",
        "y_pred = gradient_boosting.predict(X_test)\n",
        "f1_gradient_boosting = f1_score(y_test, y_pred, average=None)\n",
        "acc_gradient_boosting = accuracy_score(y_test, y_pred)\n",
        "recall_gradient_boosting = recall_score(y_test, y_pred, average=None)\n",
        "precision_gradient_boosting = precision_score(y_test, y_pred, average=None)\n",
        "print(f'Test F1 score: {f1_gradient_boosting}.')\n",
        "print(f'Test Accuracy score: {acc_gradient_boosting}.')\n",
        "print(f'Test Recall score: {recall_gradient_boosting}.')\n",
        "print(f'Test Precision score: {precision_gradient_boosting}.')"
      ]
    },
    {
      "cell_type": "markdown",
      "metadata": {
        "id": "9SSqMDcdJ0mA"
      },
      "source": [
        "###Stacking"
      ]
    },
    {
      "cell_type": "code",
      "execution_count": null,
      "metadata": {
        "id": "2CpSigtgJ3Q0"
      },
      "outputs": [],
      "source": [
        "svm = svm.SVC(kernel='rbf', C=8)\n",
        "random_forest = RandomForestClassifier()\n",
        "gradient_boosting = GradientBoostingClassifier()\n",
        "log_reg = LogisticRegression()\n",
        "\n",
        "estimators = [('svm', svm), ('rf', random_forest), ('gb', gradient_boosting)]\n",
        "stacking = StackingClassifier(estimators=estimators, final_estimator = log_reg)\n",
        "stacking.fit(X_train, y_train)\n",
        "y_pred = stacking.predict(X_test)\n"
      ]
    },
    {
      "cell_type": "code",
      "execution_count": null,
      "metadata": {
        "id": "32DD8SKeLLVK"
      },
      "outputs": [],
      "source": [
        "f1_stacking = f1_score(y_test, y_pred, average=None)\n",
        "acc_stacking = accuracy_score(y_test, y_pred)\n",
        "recall_stacking = recall_score(y_test, y_pred, average=None)\n",
        "precision_stacking = precision_score(y_test, y_pred, average=None)\n",
        "print(f'Test F1 score: {f1_stacking}.')\n",
        "print(f'Test Accuracy score: {acc_stacking}.')\n",
        "print(f'Test Recall score: {recall_stacking}.')\n",
        "print(f'Test Precision score: {precision_stacking}.')"
      ]
    },
    {
      "cell_type": "markdown",
      "metadata": {
        "id": "C0q3iIhEg_Bp"
      },
      "source": [
        "###Grid Search"
      ]
    },
    {
      "cell_type": "code",
      "execution_count": null,
      "metadata": {
        "id": "PDRSeUs0hDxS"
      },
      "outputs": [],
      "source": [
        "\"\"\"\n",
        "param_grid = {\n",
        "    'C': [1, 4, 8, 16],\n",
        "    'kernel': ['linear', 'rbf'],\n",
        "}\n",
        "\n",
        "svm_classifier = SVC()\n",
        "grid_search = GridSearchCV(svm_classifier, param_grid, cv=5, n_jobs=-1)\n",
        "grid_search.fit(X_train, y_train)\n",
        "y_pred = grid_search.predict(X_test)\n",
        "\n",
        "best_params = grid_search.best_params_\n",
        "best_estimator = grid_search.best_estimator_\n",
        "\n",
        "print(\"Best Parameters:\", best_params)\n",
        "print(\"Best Estimator:\", best_estimator)\n",
        "\n",
        "\n",
        "accuracy = best_estimator.score(X_test, y_test)\n",
        "print(\"Test Accuracy:\", accuracy)\n",
        "f1 = f1_score(y_test, y_pred, average=None)\n",
        "print(f'Test F1 score: {f1}.')\n",
        "\"\"\""
      ]
    }
  ],
  "metadata": {
    "accelerator": "GPU",
    "colab": {
      "collapsed_sections": [
        "Uzz1FXXAQAEN",
        "C0q3iIhEg_Bp",
        "Iiwp9SPAmxo5",
        "zi3NptBNnnt_"
      ],
      "gpuType": "T4",
      "provenance": []
    },
    "kernelspec": {
      "display_name": "Python 3 (ipykernel)",
      "language": "python",
      "name": "python3"
    },
    "language_info": {
      "codemirror_mode": {
        "name": "ipython",
        "version": 3
      },
      "file_extension": ".py",
      "mimetype": "text/x-python",
      "name": "python",
      "nbconvert_exporter": "python",
      "pygments_lexer": "ipython3",
      "version": "3.10.14"
    }
  },
  "nbformat": 4,
  "nbformat_minor": 0
}